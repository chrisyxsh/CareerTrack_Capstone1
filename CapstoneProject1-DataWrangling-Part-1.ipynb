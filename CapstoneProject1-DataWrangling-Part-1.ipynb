{
 "cells": [
  {
   "cell_type": "markdown",
   "metadata": {},
   "source": [
    "# Career Track Capstone Project 1\n",
    "## Data Cleaning Part I\n",
    "### Data Source\n",
    "The data set come from the [Yelp's Open Dataset](https://www.yelp.com/dataset). The documentation of the data set is [here](https://www.yelp.com/dataset/documentation/json).\n",
    "\n",
    "### Import Libraries and data\n",
    "At first, we import the data of \"business\". It include business location, attributes, and categories, etc."
   ]
  },
  {
   "cell_type": "code",
   "execution_count": 1,
   "metadata": {},
   "outputs": [],
   "source": [
    "import json\n",
    "import pandas as pd\n",
    "import numpy as np\n",
    "import matplotlib.pyplot as plt\n",
    "import time\n",
    "import datetime\n",
    "\n",
    "filename = 'business.json'\n",
    "\n",
    "js = [json.loads(line) for line in open(filename)]\n",
    "\n",
    "business_data = pd.DataFrame(js)"
   ]
  },
  {
   "cell_type": "markdown",
   "metadata": {},
   "source": [
    "### Checking data structure\n",
    "We firstly check the names of the columns, and the brief information of the dataframe."
   ]
  },
  {
   "cell_type": "code",
   "execution_count": 2,
   "metadata": {},
   "outputs": [
    {
     "data": {
      "text/plain": [
       "Index(['address', 'attributes', 'business_id', 'categories', 'city', 'hours',\n",
       "       'is_open', 'latitude', 'longitude', 'name', 'neighborhood',\n",
       "       'postal_code', 'review_count', 'stars', 'state'],\n",
       "      dtype='object')"
      ]
     },
     "execution_count": 2,
     "metadata": {},
     "output_type": "execute_result"
    }
   ],
   "source": [
    "business_data.columns"
   ]
  },
  {
   "cell_type": "code",
   "execution_count": 3,
   "metadata": {},
   "outputs": [
    {
     "data": {
      "text/plain": [
       "(174567, 15)"
      ]
     },
     "execution_count": 3,
     "metadata": {},
     "output_type": "execute_result"
    }
   ],
   "source": [
    "business_data.shape"
   ]
  },
  {
   "cell_type": "code",
   "execution_count": 4,
   "metadata": {},
   "outputs": [
    {
     "name": "stdout",
     "output_type": "stream",
     "text": [
      "<class 'pandas.core.frame.DataFrame'>\n",
      "RangeIndex: 174567 entries, 0 to 174566\n",
      "Data columns (total 15 columns):\n",
      "address         174567 non-null object\n",
      "attributes      174567 non-null object\n",
      "business_id     174567 non-null object\n",
      "categories      174567 non-null object\n",
      "city            174567 non-null object\n",
      "hours           174567 non-null object\n",
      "is_open         174567 non-null int64\n",
      "latitude        174566 non-null float64\n",
      "longitude       174566 non-null float64\n",
      "name            174567 non-null object\n",
      "neighborhood    174567 non-null object\n",
      "postal_code     174567 non-null object\n",
      "review_count    174567 non-null int64\n",
      "stars           174567 non-null float64\n",
      "state           174567 non-null object\n",
      "dtypes: float64(3), int64(2), object(10)\n",
      "memory usage: 20.0+ MB\n"
     ]
    }
   ],
   "source": [
    "business_data.info()"
   ]
  },
  {
   "cell_type": "code",
   "execution_count": 5,
   "metadata": {
    "scrolled": true
   },
   "outputs": [
    {
     "data": {
      "text/html": [
       "<div>\n",
       "<style scoped>\n",
       "    .dataframe tbody tr th:only-of-type {\n",
       "        vertical-align: middle;\n",
       "    }\n",
       "\n",
       "    .dataframe tbody tr th {\n",
       "        vertical-align: top;\n",
       "    }\n",
       "\n",
       "    .dataframe thead th {\n",
       "        text-align: right;\n",
       "    }\n",
       "</style>\n",
       "<table border=\"1\" class=\"dataframe\">\n",
       "  <thead>\n",
       "    <tr style=\"text-align: right;\">\n",
       "      <th></th>\n",
       "      <th>is_open</th>\n",
       "      <th>latitude</th>\n",
       "      <th>longitude</th>\n",
       "      <th>review_count</th>\n",
       "      <th>stars</th>\n",
       "    </tr>\n",
       "  </thead>\n",
       "  <tbody>\n",
       "    <tr>\n",
       "      <th>count</th>\n",
       "      <td>174567.000000</td>\n",
       "      <td>174566.000000</td>\n",
       "      <td>174566.000000</td>\n",
       "      <td>174567.000000</td>\n",
       "      <td>174567.000000</td>\n",
       "    </tr>\n",
       "    <tr>\n",
       "      <th>mean</th>\n",
       "      <td>0.840376</td>\n",
       "      <td>38.627312</td>\n",
       "      <td>-92.679009</td>\n",
       "      <td>30.137059</td>\n",
       "      <td>3.632196</td>\n",
       "    </tr>\n",
       "    <tr>\n",
       "      <th>std</th>\n",
       "      <td>0.366258</td>\n",
       "      <td>5.389012</td>\n",
       "      <td>26.240079</td>\n",
       "      <td>98.208174</td>\n",
       "      <td>1.003739</td>\n",
       "    </tr>\n",
       "    <tr>\n",
       "      <th>min</th>\n",
       "      <td>0.000000</td>\n",
       "      <td>-36.086009</td>\n",
       "      <td>-142.466650</td>\n",
       "      <td>3.000000</td>\n",
       "      <td>1.000000</td>\n",
       "    </tr>\n",
       "    <tr>\n",
       "      <th>25%</th>\n",
       "      <td>1.000000</td>\n",
       "      <td>33.631550</td>\n",
       "      <td>-112.125879</td>\n",
       "      <td>4.000000</td>\n",
       "      <td>3.000000</td>\n",
       "    </tr>\n",
       "    <tr>\n",
       "      <th>50%</th>\n",
       "      <td>1.000000</td>\n",
       "      <td>36.144257</td>\n",
       "      <td>-89.410128</td>\n",
       "      <td>8.000000</td>\n",
       "      <td>3.500000</td>\n",
       "    </tr>\n",
       "    <tr>\n",
       "      <th>75%</th>\n",
       "      <td>1.000000</td>\n",
       "      <td>43.606181</td>\n",
       "      <td>-79.657609</td>\n",
       "      <td>23.000000</td>\n",
       "      <td>4.500000</td>\n",
       "    </tr>\n",
       "    <tr>\n",
       "      <th>max</th>\n",
       "      <td>1.000000</td>\n",
       "      <td>89.999314</td>\n",
       "      <td>115.086769</td>\n",
       "      <td>7361.000000</td>\n",
       "      <td>5.000000</td>\n",
       "    </tr>\n",
       "  </tbody>\n",
       "</table>\n",
       "</div>"
      ],
      "text/plain": [
       "             is_open       latitude      longitude   review_count  \\\n",
       "count  174567.000000  174566.000000  174566.000000  174567.000000   \n",
       "mean        0.840376      38.627312     -92.679009      30.137059   \n",
       "std         0.366258       5.389012      26.240079      98.208174   \n",
       "min         0.000000     -36.086009    -142.466650       3.000000   \n",
       "25%         1.000000      33.631550    -112.125879       4.000000   \n",
       "50%         1.000000      36.144257     -89.410128       8.000000   \n",
       "75%         1.000000      43.606181     -79.657609      23.000000   \n",
       "max         1.000000      89.999314     115.086769    7361.000000   \n",
       "\n",
       "               stars  \n",
       "count  174567.000000  \n",
       "mean        3.632196  \n",
       "std         1.003739  \n",
       "min         1.000000  \n",
       "25%         3.000000  \n",
       "50%         3.500000  \n",
       "75%         4.500000  \n",
       "max         5.000000  "
      ]
     },
     "execution_count": 5,
     "metadata": {},
     "output_type": "execute_result"
    }
   ],
   "source": [
    "business_data.describe()"
   ]
  },
  {
   "cell_type": "markdown",
   "metadata": {},
   "source": [
    "### Checking value frequency of each variable\n",
    "Next, let's have a look about the value frequency of the 'state' varible."
   ]
  },
  {
   "cell_type": "code",
   "execution_count": 6,
   "metadata": {},
   "outputs": [
    {
     "data": {
      "text/plain": [
       "           1\n",
       "B          1\n",
       "MT         1\n",
       "GA         1\n",
       "MN         1\n",
       "NE         1\n",
       "WA         1\n",
       "FL         1\n",
       "KHL        1\n",
       "PKN        1\n",
       "AB         1\n",
       "3          1\n",
       "30         1\n",
       "NLK        1\n",
       "HU         1\n",
       "TAM        1\n",
       "DE         1\n",
       "ZET        1\n",
       "SL         1\n",
       "STG        1\n",
       "KY         1\n",
       "CS         1\n",
       "AL         1\n",
       "FAL        1\n",
       "WHT        1\n",
       "VA         1\n",
       "RCC        1\n",
       "AK         1\n",
       "CMA        2\n",
       "AR         2\n",
       "       ...  \n",
       "BY         4\n",
       "XGL        4\n",
       "SCB        5\n",
       "CA         5\n",
       "VS         7\n",
       "NI        10\n",
       "01        10\n",
       "ST        11\n",
       "ESX       12\n",
       "NY        18\n",
       "C         28\n",
       "WLN       38\n",
       "ELN       47\n",
       "FIF       85\n",
       "CHE      143\n",
       "NYK      152\n",
       "HLD      179\n",
       "MLN      208\n",
       "SC       679\n",
       "IL      1852\n",
       "BW      3118\n",
       "EDH     3795\n",
       "WI      4754\n",
       "QC      8169\n",
       "PA     10109\n",
       "OH     12609\n",
       "NC     12956\n",
       "ON     30208\n",
       "NV     33086\n",
       "AZ     52214\n",
       "Name: state, Length: 68, dtype: int64"
      ]
     },
     "execution_count": 6,
     "metadata": {},
     "output_type": "execute_result"
    }
   ],
   "source": [
    "business_data.state.value_counts(dropna=False).sort_values()"
   ]
  },
  {
   "cell_type": "markdown",
   "metadata": {},
   "source": [
    "'BW' is an area in Germany. Here we just need states of USA. \n",
    "In addition, the number of business entities should be big enough to portrait a place.\n",
    "So we choose states in USA which has more than 1000 business entities in our data set."
   ]
  },
  {
   "cell_type": "code",
   "execution_count": 7,
   "metadata": {},
   "outputs": [],
   "source": [
    "usa_states = business_data['state'].isin(['AZ','IL','NC','NV','OH','PA','WI'])"
   ]
  },
  {
   "cell_type": "code",
   "execution_count": 8,
   "metadata": {},
   "outputs": [
    {
     "data": {
      "text/html": [
       "<div>\n",
       "<style scoped>\n",
       "    .dataframe tbody tr th:only-of-type {\n",
       "        vertical-align: middle;\n",
       "    }\n",
       "\n",
       "    .dataframe tbody tr th {\n",
       "        vertical-align: top;\n",
       "    }\n",
       "\n",
       "    .dataframe thead th {\n",
       "        text-align: right;\n",
       "    }\n",
       "</style>\n",
       "<table border=\"1\" class=\"dataframe\">\n",
       "  <thead>\n",
       "    <tr style=\"text-align: right;\">\n",
       "      <th></th>\n",
       "      <th>address</th>\n",
       "      <th>attributes</th>\n",
       "      <th>business_id</th>\n",
       "      <th>categories</th>\n",
       "      <th>city</th>\n",
       "      <th>hours</th>\n",
       "      <th>is_open</th>\n",
       "      <th>latitude</th>\n",
       "      <th>longitude</th>\n",
       "      <th>name</th>\n",
       "      <th>neighborhood</th>\n",
       "      <th>postal_code</th>\n",
       "      <th>review_count</th>\n",
       "      <th>stars</th>\n",
       "      <th>state</th>\n",
       "    </tr>\n",
       "  </thead>\n",
       "  <tbody>\n",
       "    <tr>\n",
       "      <th>0</th>\n",
       "      <td>4855 E Warner Rd, Ste B9</td>\n",
       "      <td>{'AcceptsInsurance': True, 'ByAppointmentOnly'...</td>\n",
       "      <td>FYWN1wneV18bWNgQjJ2GNg</td>\n",
       "      <td>[Dentists, General Dentistry, Health &amp; Medical...</td>\n",
       "      <td>Ahwatukee</td>\n",
       "      <td>{'Friday': '7:30-17:00', 'Tuesday': '7:30-17:0...</td>\n",
       "      <td>1</td>\n",
       "      <td>33.330690</td>\n",
       "      <td>-111.978599</td>\n",
       "      <td>Dental by Design</td>\n",
       "      <td></td>\n",
       "      <td>85044</td>\n",
       "      <td>22</td>\n",
       "      <td>4.0</td>\n",
       "      <td>AZ</td>\n",
       "    </tr>\n",
       "    <tr>\n",
       "      <th>1</th>\n",
       "      <td></td>\n",
       "      <td>{}</td>\n",
       "      <td>IAPGit0LwvhR1fe07rK7bA</td>\n",
       "      <td>[Landscaping, Home Services]</td>\n",
       "      <td>Phoenix</td>\n",
       "      <td>{}</td>\n",
       "      <td>1</td>\n",
       "      <td>33.468804</td>\n",
       "      <td>-112.196673</td>\n",
       "      <td>Reparo Landscaping</td>\n",
       "      <td></td>\n",
       "      <td>85035</td>\n",
       "      <td>3</td>\n",
       "      <td>5.0</td>\n",
       "      <td>AZ</td>\n",
       "    </tr>\n",
       "    <tr>\n",
       "      <th>2</th>\n",
       "      <td>4240 W Bell Rd</td>\n",
       "      <td>{'BusinessAcceptsCreditCards': True, 'Restaura...</td>\n",
       "      <td>JfUt7soDtiGaBvseF0LCNA</td>\n",
       "      <td>[Home &amp; Garden, Mattresses, Shopping, Furnitur...</td>\n",
       "      <td>Glendale</td>\n",
       "      <td>{'Monday': '10:00-20:00', 'Tuesday': '10:00-20...</td>\n",
       "      <td>1</td>\n",
       "      <td>33.640832</td>\n",
       "      <td>-112.150735</td>\n",
       "      <td>Mega Furniture</td>\n",
       "      <td></td>\n",
       "      <td>85308</td>\n",
       "      <td>12</td>\n",
       "      <td>2.5</td>\n",
       "      <td>AZ</td>\n",
       "    </tr>\n",
       "    <tr>\n",
       "      <th>3</th>\n",
       "      <td>17570 N 75th Ave, Ste 540, Room Ste 22</td>\n",
       "      <td>{'BusinessParking': {'garage': False, 'street'...</td>\n",
       "      <td>7FhjdyZ3jqD-YvF43oGgmg</td>\n",
       "      <td>[Hair Stylists, Hair Salons, Waxing, Hair Remo...</td>\n",
       "      <td>Glendale</td>\n",
       "      <td>{'Tuesday': '10:00-20:00', 'Friday': '10:00-18...</td>\n",
       "      <td>1</td>\n",
       "      <td>33.643939</td>\n",
       "      <td>-112.221370</td>\n",
       "      <td>Salon Haven</td>\n",
       "      <td></td>\n",
       "      <td>85308</td>\n",
       "      <td>6</td>\n",
       "      <td>5.0</td>\n",
       "      <td>AZ</td>\n",
       "    </tr>\n",
       "    <tr>\n",
       "      <th>4</th>\n",
       "      <td>1904 E Washington St</td>\n",
       "      <td>{'BusinessAcceptsCreditCards': True}</td>\n",
       "      <td>Vdr_Gp6uJnec3GETtjKJlw</td>\n",
       "      <td>[Powder Coating, Furniture Reupholstery, Inter...</td>\n",
       "      <td>Phoenix</td>\n",
       "      <td>{'Monday': '8:00-16:00', 'Tuesday': '8:00-16:0...</td>\n",
       "      <td>1</td>\n",
       "      <td>33.448611</td>\n",
       "      <td>-112.040803</td>\n",
       "      <td>Nu Look Revinyling</td>\n",
       "      <td></td>\n",
       "      <td>85034</td>\n",
       "      <td>3</td>\n",
       "      <td>4.0</td>\n",
       "      <td>AZ</td>\n",
       "    </tr>\n",
       "  </tbody>\n",
       "</table>\n",
       "</div>"
      ],
      "text/plain": [
       "                                  address  \\\n",
       "0                4855 E Warner Rd, Ste B9   \n",
       "1                                           \n",
       "2                          4240 W Bell Rd   \n",
       "3  17570 N 75th Ave, Ste 540, Room Ste 22   \n",
       "4                    1904 E Washington St   \n",
       "\n",
       "                                          attributes             business_id  \\\n",
       "0  {'AcceptsInsurance': True, 'ByAppointmentOnly'...  FYWN1wneV18bWNgQjJ2GNg   \n",
       "1                                                 {}  IAPGit0LwvhR1fe07rK7bA   \n",
       "2  {'BusinessAcceptsCreditCards': True, 'Restaura...  JfUt7soDtiGaBvseF0LCNA   \n",
       "3  {'BusinessParking': {'garage': False, 'street'...  7FhjdyZ3jqD-YvF43oGgmg   \n",
       "4               {'BusinessAcceptsCreditCards': True}  Vdr_Gp6uJnec3GETtjKJlw   \n",
       "\n",
       "                                          categories       city  \\\n",
       "0  [Dentists, General Dentistry, Health & Medical...  Ahwatukee   \n",
       "1                       [Landscaping, Home Services]    Phoenix   \n",
       "2  [Home & Garden, Mattresses, Shopping, Furnitur...   Glendale   \n",
       "3  [Hair Stylists, Hair Salons, Waxing, Hair Remo...   Glendale   \n",
       "4  [Powder Coating, Furniture Reupholstery, Inter...    Phoenix   \n",
       "\n",
       "                                               hours  is_open   latitude  \\\n",
       "0  {'Friday': '7:30-17:00', 'Tuesday': '7:30-17:0...        1  33.330690   \n",
       "1                                                 {}        1  33.468804   \n",
       "2  {'Monday': '10:00-20:00', 'Tuesday': '10:00-20...        1  33.640832   \n",
       "3  {'Tuesday': '10:00-20:00', 'Friday': '10:00-18...        1  33.643939   \n",
       "4  {'Monday': '8:00-16:00', 'Tuesday': '8:00-16:0...        1  33.448611   \n",
       "\n",
       "    longitude                name neighborhood postal_code  review_count  \\\n",
       "0 -111.978599    Dental by Design                    85044            22   \n",
       "1 -112.196673  Reparo Landscaping                    85035             3   \n",
       "2 -112.150735      Mega Furniture                    85308            12   \n",
       "3 -112.221370         Salon Haven                    85308             6   \n",
       "4 -112.040803  Nu Look Revinyling                    85034             3   \n",
       "\n",
       "   stars state  \n",
       "0    4.0    AZ  \n",
       "1    5.0    AZ  \n",
       "2    2.5    AZ  \n",
       "3    5.0    AZ  \n",
       "4    4.0    AZ  "
      ]
     },
     "execution_count": 8,
     "metadata": {},
     "output_type": "execute_result"
    }
   ],
   "source": [
    "business_usa = business_data[usa_states].sort_values(by=['state'])\n",
    "business_usa = business_usa.reset_index(drop=True)\n",
    "business_usa.head()"
   ]
  },
  {
   "cell_type": "markdown",
   "metadata": {},
   "source": [
    "Now we will check the values of other variables like 'address','business_id','city', etc., one by one. "
   ]
  },
  {
   "cell_type": "code",
   "execution_count": 9,
   "metadata": {
    "scrolled": false
   },
   "outputs": [
    {
     "data": {
      "text/plain": [
       "                                 5974\n",
       ", 2190 East Williams Field Rd       1\n",
       ", 3107 West Chandler Blvd           1\n",
       ", 3200 S Las Vegas Blvd             1\n",
       ", 3930 Las Vegas Blvd S             1\n",
       "Name: address, dtype: int64"
      ]
     },
     "execution_count": 9,
     "metadata": {},
     "output_type": "execute_result"
    }
   ],
   "source": [
    "business_usa.address.value_counts(dropna=False).sort_index().head()"
   ]
  },
  {
   "cell_type": "code",
   "execution_count": 10,
   "metadata": {},
   "outputs": [
    {
     "data": {
      "text/plain": [
       "--7zmmkVg-IMGaXbuVd0SQ    1\n",
       "--8LPVSo5i0Oo61X01sV9A    1\n",
       "--9QQLMTbFzLJ_oT-ON3Xw    1\n",
       "--9e1ONYQuAa-CB_Rrw7Tw    1\n",
       "--DdmeR16TRb3LsjG0ejrQ    1\n",
       "Name: business_id, dtype: int64"
      ]
     },
     "execution_count": 10,
     "metadata": {},
     "output_type": "execute_result"
    }
   ],
   "source": [
    "business_usa.business_id.value_counts(dropna=False).sort_index().head()"
   ]
  },
  {
   "cell_type": "code",
   "execution_count": 11,
   "metadata": {},
   "outputs": [
    {
     "data": {
      "text/plain": [
       "110 Las Vegas                   1\n",
       "Ahwahtukee                      1\n",
       "Ahwatukee                      16\n",
       "Ahwatukee Foothills Village     1\n",
       "Allegheny                       1\n",
       "Name: city, dtype: int64"
      ]
     },
     "execution_count": 11,
     "metadata": {},
     "output_type": "execute_result"
    }
   ],
   "source": [
    "business_usa.city.value_counts(dropna=False).sort_index().head()"
   ]
  },
  {
   "cell_type": "code",
   "execution_count": 12,
   "metadata": {},
   "outputs": [
    {
     "data": {
      "text/plain": [
       "0     19858\n",
       "1    107722\n",
       "Name: is_open, dtype: int64"
      ]
     },
     "execution_count": 12,
     "metadata": {},
     "output_type": "execute_result"
    }
   ],
   "source": [
    "business_usa.is_open.value_counts(dropna=False).sort_index().head()"
   ]
  },
  {
   "cell_type": "code",
   "execution_count": 13,
   "metadata": {},
   "outputs": [
    {
     "data": {
      "text/plain": [
       "40.439371    1\n",
       "33.306078    1\n",
       "33.516018    1\n",
       "33.418402    1\n",
       "33.727981    1\n",
       "Name: latitude, dtype: int64"
      ]
     },
     "execution_count": 13,
     "metadata": {},
     "output_type": "execute_result"
    }
   ],
   "source": [
    "business_usa.latitude.value_counts(dropna=False).sort_values().head()"
   ]
  },
  {
   "cell_type": "code",
   "execution_count": 14,
   "metadata": {},
   "outputs": [
    {
     "data": {
      "text/plain": [
       "-75.062989     1\n",
       "-74.858958     1\n",
       "-74.150722     1\n",
       "-71.780522     1\n",
       " 115.086769    1\n",
       "Name: longitude, dtype: int64"
      ]
     },
     "execution_count": 14,
     "metadata": {},
     "output_type": "execute_result"
    }
   ],
   "source": [
    "business_usa.longitude.value_counts(dropna=False).sort_index().tail()"
   ]
  },
  {
   "cell_type": "code",
   "execution_count": 15,
   "metadata": {},
   "outputs": [
    {
     "data": {
      "text/plain": [
       "\"T\"s Hair Affair                       1\n",
       "# 1 Nails                              1\n",
       "#1 Cochran Buick GMC of Monroeville    1\n",
       "#1 Cochran Buick GMC of Robinson       1\n",
       "#1 Cochran Cadillac - Monroeville      2\n",
       "Name: name, dtype: int64"
      ]
     },
     "execution_count": 15,
     "metadata": {},
     "output_type": "execute_result"
    }
   ],
   "source": [
    "business_usa.name.value_counts(dropna=False).sort_index().head()"
   ]
  },
  {
   "cell_type": "code",
   "execution_count": 16,
   "metadata": {},
   "outputs": [
    {
     "data": {
      "text/plain": [
       "                       89680\n",
       "200th Street               2\n",
       "Allentown                 16\n",
       "Allied Dunn's Marsh       10\n",
       "Anthem                  1208\n",
       "Name: neighborhood, dtype: int64"
      ]
     },
     "execution_count": 16,
     "metadata": {},
     "output_type": "execute_result"
    }
   ],
   "source": [
    "business_usa.neighborhood.value_counts(dropna=False).sort_index().head()"
   ]
  },
  {
   "cell_type": "code",
   "execution_count": 17,
   "metadata": {},
   "outputs": [
    {
     "data": {
      "text/plain": [
       "         410\n",
       "02224      1\n",
       "05452      1\n",
       "08054      1\n",
       "15003     36\n",
       "Name: postal_code, dtype: int64"
      ]
     },
     "execution_count": 17,
     "metadata": {},
     "output_type": "execute_result"
    }
   ],
   "source": [
    "business_usa.postal_code.value_counts(dropna=False).sort_index().head()\n",
    "#Dealing with missing values"
   ]
  },
  {
   "cell_type": "code",
   "execution_count": 18,
   "metadata": {},
   "outputs": [
    {
     "data": {
      "text/plain": [
       "3    21748\n",
       "4    11896\n",
       "5     9075\n",
       "6     7184\n",
       "7     5960\n",
       "Name: review_count, dtype: int64"
      ]
     },
     "execution_count": 18,
     "metadata": {},
     "output_type": "execute_result"
    }
   ],
   "source": [
    "business_usa.review_count.value_counts(dropna=False).sort_index().head()"
   ]
  },
  {
   "cell_type": "code",
   "execution_count": 19,
   "metadata": {},
   "outputs": [
    {
     "data": {
      "text/plain": [
       "1.0     2925\n",
       "1.5     3193\n",
       "2.0     6921\n",
       "2.5    11665\n",
       "3.0    15734\n",
       "3.5    21824\n",
       "4.0    23041\n",
       "4.5    18272\n",
       "5.0    24005\n",
       "Name: stars, dtype: int64"
      ]
     },
     "execution_count": 19,
     "metadata": {},
     "output_type": "execute_result"
    }
   ],
   "source": [
    "business_usa.stars.value_counts(dropna=False).sort_index()"
   ]
  },
  {
   "cell_type": "markdown",
   "metadata": {},
   "source": [
    "### Filling the missing values and correcting the variable with wrong values\n",
    "\n",
    "From the information above, we find that the 'address', 'neighborhood' and 'postal_code' both have some missing values. We can use the 'latitude' and the 'longitude' to inquire related 'address', 'neighborhood' and 'postal_code' via the Google Geocoding API. \n",
    "\n",
    "The 'address' has 5974 missing values, the 'neighborhood' has 89680 missing values, and the 'postal_code' has 410 missing values.\n",
    "\n",
    "Considering the [Google Geocoding API Usage Limits](https://developers.google.com/maps/documentation/geocoding/usage-limits), we choose to fill the missing values of the 'postal_code'. \n",
    "\n",
    "We also need to get the right values of the 'city', '110 Las Vegas' definitely is not a right city name. If we want to do statistics on the state level, and the city level, we need right cities' names.\n",
    "\n",
    "We cannot correct all cities' names with iterating each observation. After filling the missing values of the 'postal_code', we can group observations by 'state', 'postal_code' and 'city', and get  one set of 'latitude' and 'longitude', representing the location coordinates of each city, to inquire the city name from Google Geocoding API. Thus the number of requests will below the 2500 limitation.\n",
    "\n",
    "Here are two functions. The 'get_address' is to get 'address','postal_code', 'neighborhood' and 'city' with given 'latitude' and 'longitude'. Here API_KEY is set as 'None' as the free requesting. Sometime Google API will send back response as out of daily limit. We can wait for a while then do it again."
   ]
  },
  {
   "cell_type": "code",
   "execution_count": 2,
   "metadata": {},
   "outputs": [],
   "source": [
    "# Funtions Dealing with missing values for address,postal_code and neighborhood via lat and long\n",
    "import requests\n",
    "\n",
    "API_KEY = None\n",
    "# Backoff time sets how many minutes to wait between google pings when your API limit is hit\n",
    "BACKOFF_TIME = 30\n",
    "OPT_LIST = ['address','postal_code','neighborhood','city']\n",
    "\n",
    "def get_address(latitude,longitude,opt=None,api_key=None):\n",
    "    result = {} \n",
    "    sensor = 'true'\n",
    "    http_prefix = \"https://maps.googleapis.com/maps/api/geocode/json?\"\n",
    "    params = \"latlng={lat},{lon}&sensor={sen}\".format(\n",
    "        lat=latitude,\n",
    "        lon=longitude,\n",
    "        sen=sensor\n",
    "    )\n",
    "    url = \"{http_prefix}{params}\".format(http_prefix=http_prefix, params=params)\n",
    "    if api_key is not None:\n",
    "        url = url + \"&key={}\".format(api_key)\n",
    "    while True:\n",
    "        response = requests.get(url).json()\n",
    "        if response['status'] == 'OK':\n",
    "            #print(\"google response:\",response)\n",
    "            #extract_val = []\n",
    "            result['res'] = 'OK'\n",
    "            if opt == 'address' :\n",
    "                result['content'] = response['results'][0]['formatted_address']\n",
    "            if opt == 'city' :\n",
    "                extract_val = [x['long_name'] for x in response['results'][0].get('address_components') \n",
    "                                if 'locality' in x.get('types')] \n",
    "                if len(extract_val)==0 :\n",
    "                    extract_val = [x['long_name'] for x in response['results'][0].get('address_components') \n",
    "                                if 'neighborhood' in x.get('types')] \n",
    "                    if len(extract_val)==0 :\n",
    "                        #result['res']= 'Extract nothing from response info'\n",
    "                        result['content'] = ''\n",
    "                        print(latitude,longitude)\n",
    "                    else:\n",
    "                        result['content'] = extract_val[0]\n",
    "                else:\n",
    "                    result['content'] = extract_val[0]\n",
    "            if opt == 'postal_code' :\n",
    "                extract_val = [x['long_name'] for x in response['results'][0].get('address_components') \n",
    "                                if 'postal_code' in x.get('types')]   \n",
    "                if len(extract_val)==0 :\n",
    "                    result['content'] = ''\n",
    "                    print(latitude,longitude)\n",
    "                else:\n",
    "                    result['content'] = extract_val[0]\n",
    "            if opt == 'neighborhood' :\n",
    "                extract_val = [x['long_name'] for x in response['results'][0].get('address_components') \n",
    "                                if 'neighborhood' in x.get('types')]\n",
    "                if len(extract_val)==0 :\n",
    "                    result['content'] = ''\n",
    "                    print(latitude,longitude)\n",
    "                else:\n",
    "                    result['content'] = extract_val[0]\n",
    "        else :\n",
    "            result['res']= response['status']\n",
    "            result['content'] = None\n",
    "        break\n",
    "    return result\n",
    "\n",
    "def reverse_geocoding(df_reversing,opt):\n",
    "    result={}\n",
    "    contents = []\n",
    "    content_results = []\n",
    "    if opt in OPT_LIST :\n",
    "        for index,row in df_reversing.iterrows():\n",
    "            \n",
    "            gecd_reversed = False\n",
    "            while gecd_reversed is not True:\n",
    "               # Reverse the lat and long to address with google\n",
    "                try:\n",
    "                    reverse_result = get_address(row['latitude'],row['longitude'],opt=opt,api_key=API_KEY)\n",
    "                except Exception as e:\n",
    "                    gecd_reversed = True \n",
    "                if reverse_result['res'] == 'OK':\n",
    "                    contents.append(reverse_result['content']) \n",
    "                    content_results.append(reverse_result['res'])\n",
    "                    gecd_reversed = True \n",
    "                else:\n",
    "                    print(reverse_result)                    \n",
    "                    gecd_reversed = False\n",
    "                    time.sleep(BACKOFF_TIME * 0.2)\n",
    "                    \n",
    "        df_reversing[opt] = pd.Series(contents).values\n",
    "        result['res']='OK'\n",
    "        result['content']=df_reversing[opt]\n",
    "        result['content_result'] = content_results\n",
    "    else :\n",
    "        result['res']='Option Error'\n",
    "        result['content']=''\n",
    "        result['content_result']=[]\n",
    "    return result\n",
    "\n",
    "def get_city_coor(lat_lon_s):\n",
    "    length = len(lat_lon_s)//2\n",
    "    return lat_lon_s.values[length]"
   ]
  },
  {
   "cell_type": "markdown",
   "metadata": {},
   "source": [
    "We firstly inquire missing postal codes. If we cannot get postal code from the response of Google API, we print out the set of latitude and longitude, and assign '' to the 'postal_code'. Later we will delete them from our dataset."
   ]
  },
  {
   "cell_type": "code",
   "execution_count": 26,
   "metadata": {},
   "outputs": [
    {
     "name": "stdout",
     "output_type": "stream",
     "text": [
      "36.3997112534 -115.189260704\n"
     ]
    }
   ],
   "source": [
    "bool_post = business_usa['postal_code']==''\n",
    "rev_df = business_usa[bool_post][['latitude','longitude']]\n",
    "query_post = reverse_geocoding(rev_df,'postal_code')\n",
    "if query_post['res'] == 'OK' :\n",
    "    missed_post = query_post['content'] "
   ]
  },
  {
   "cell_type": "code",
   "execution_count": 31,
   "metadata": {},
   "outputs": [],
   "source": [
    "business_usa.update(missed_post)\n",
    "business_usa['postal_code'] = business_usa['postal_code'].astype('str') \n",
    "business_usa = business_usa[business_usa['postal_code']!= '']"
   ]
  },
  {
   "cell_type": "markdown",
   "metadata": {},
   "source": [
    "Then we will deal with the 'city' variable. If we cannot get city name from Google API, we will set it back to the old name. Because the 'latitude' and the 'longitude' are probably wrong. "
   ]
  },
  {
   "cell_type": "code",
   "execution_count": 33,
   "metadata": {},
   "outputs": [
    {
     "name": "stdout",
     "output_type": "stream",
     "text": [
      "33.4782016 -111.2392871\n",
      "33.4091 -111.2181\n",
      "41.3817911505 -81.9371392578\n",
      "41.465503850000005 -81.2156177\n",
      "41.464516383562504 -81.22236660261875\n",
      "41.37497261666667 -81.93425878333333\n",
      "39.320877215 -84.3674090132\n"
     ]
    }
   ],
   "source": [
    "cities_coor = business_usa.groupby(['state','postal_code','city'])[['latitude','longitude']].agg(get_city_coor).reset_index()\n",
    "cities_coor['city_y'] = cities_coor['city']\n",
    "cities_dict = reverse_geocoding(cities_coor,'city')"
   ]
  },
  {
   "cell_type": "code",
   "execution_count": 34,
   "metadata": {},
   "outputs": [],
   "source": [
    "unkown = {}\n",
    "for index, row in cities_coor.iterrows():\n",
    "    if row['city']=='':\n",
    "        unkown[index] = row['city_y']\n",
    "\n",
    "unkown_city = pd.Series(unkown,name='city')\n",
    "cities_coor.update(unkown_city)\n",
    "cities_coor['postal_code'] = cities_coor['postal_code'].astype('str') "
   ]
  },
  {
   "cell_type": "markdown",
   "metadata": {},
   "source": [
    "We use those new cities' names to update the 'city' column in our dataframe. "
   ]
  },
  {
   "cell_type": "code",
   "execution_count": 36,
   "metadata": {},
   "outputs": [],
   "source": [
    "city_dict = {}\n",
    "for index, row in business_usa.iterrows():\n",
    "    bl = (cities_coor['state']==row['state']) & (cities_coor['postal_code']==row['postal_code']) & (cities_coor['city_y']==row['city'])\n",
    "    city = cities_coor[bl].city.unique()[0]\n",
    "    #print(\"yelp city name:\",row['city'], \" google city name:\",city)\n",
    "    city_dict[index] = city\n",
    "city_g = pd.Series(city_dict,name='city')\n",
    "business_usa.update(city_g)\n"
   ]
  },
  {
   "cell_type": "markdown",
   "metadata": {},
   "source": [
    "### Save data to a file for later use \n",
    "Now, we fill the missing values of the 'postal_code', and correct  the values of the 'city'. We can write the new business DataFrame to a CSV file for the use later. "
   ]
  },
  {
   "cell_type": "code",
   "execution_count": null,
   "metadata": {},
   "outputs": [],
   "source": [
    "business_usa.to_csv(\"{}_filled_postal-city_{}.csv\".format('business_usa',datetime.datetime.now()))"
   ]
  }
 ],
 "metadata": {
  "kernelspec": {
   "display_name": "Python 3",
   "language": "python",
   "name": "python3"
  },
  "language_info": {
   "codemirror_mode": {
    "name": "ipython",
    "version": 3
   },
   "file_extension": ".py",
   "mimetype": "text/x-python",
   "name": "python",
   "nbconvert_exporter": "python",
   "pygments_lexer": "ipython3",
   "version": "3.6.4"
  }
 },
 "nbformat": 4,
 "nbformat_minor": 2
}
